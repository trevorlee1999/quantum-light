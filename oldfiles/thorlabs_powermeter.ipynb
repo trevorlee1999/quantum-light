{
 "cells": [
  {
   "cell_type": "markdown",
   "metadata": {},
   "source": [
    "This is just some stuff that ChatGPT generated randomly. Need to get the actual device and start working on it properly first."
   ]
  },
  {
   "cell_type": "code",
   "execution_count": null,
   "metadata": {},
   "outputs": [],
   "source": [
    "import ThorlabsPM100\n",
    "import pyvisa  # Correctly importing pyvisa\n",
    "\n",
    "# Initialize the connection to the power meter using pyvisa-py\n",
    "rm = pyvisa.ResourceManager('@py')  # '@py' tells it to use pyvisa-py\n",
    "inst = rm.open_resource('USB0::0x1313::0x8078::P0001234::INSTR')  # Update with your actual device address\n",
    "power_meter = ThorlabsPM100.ThorlabsPM100(inst=inst)\n",
    "\n",
    "# # Get a power reading\n",
    "# power_value = power_meter.read\n",
    "# print(f\"Power: {power_value} W\")"
   ]
  }
 ],
 "metadata": {
  "kernelspec": {
   "display_name": "Python 3",
   "language": "python",
   "name": "python3"
  },
  "language_info": {
   "codemirror_mode": {
    "name": "ipython",
    "version": 3
   },
   "file_extension": ".py",
   "mimetype": "text/x-python",
   "name": "python",
   "nbconvert_exporter": "python",
   "pygments_lexer": "ipython3",
   "version": "3.13.0"
  }
 },
 "nbformat": 4,
 "nbformat_minor": 2
}
