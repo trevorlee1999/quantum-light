{
 "cells": [
  {
   "cell_type": "markdown",
   "metadata": {},
   "source": [
    "Modification of the code that Karthik gave to me."
   ]
  },
  {
   "cell_type": "code",
   "execution_count": 1,
   "metadata": {},
   "outputs": [
    {
     "name": "stdout",
     "output_type": "stream",
     "text": [
      "\u001b[1;3;4;96mDate of running the code:\u001b[0m \u001b[1;3;4;92m20241018\u001b[0m\n",
      "Time of running the code: 09:55:39\n"
     ]
    }
   ],
   "source": [
    "import numpy as np\n",
    "import pathlib\n",
    "import pyvisa\n",
    "import time\n",
    "import matplotlib.pyplot as plt\n",
    "import math\n",
    "from datetime import datetime\n",
    "TODAY_STR = datetime.now().strftime(\"%Y%m%d\")\n",
    "print(f\"\\x1b[1;3;4;96mDate of running the code:\\x1b[0m \\x1b[1;3;4;92m{TODAY_STR}\\x1b[0m\")\n",
    "print(f\"Time of running the code: {datetime.now().strftime(\"%H:%M:%S\")}\")"
   ]
  },
  {
   "cell_type": "code",
   "execution_count": 2,
   "metadata": {},
   "outputs": [
    {
     "name": "stdout",
     "output_type": "stream",
     "text": [
      "Freespace-20241018 new_GRIN_Groove_with_YSO_crystal_0.005E_-10DbMr 10\n"
     ]
    }
   ],
   "source": [
    "# for book keeping\n",
    "CHIP_ID = f\"Freespace-{TODAY_STR}\"\n",
    "FEATURE_ID = \"new_GRIN_Groove_with_YSO_crystal_0.005E_-10DbMr\"\n",
    "\n",
    "PM_RANGE = 10\n",
    "\n",
    "# FEATURE_ID = 'col2_row_ring_top_weirdcoupling'\n",
    "print(f\"{CHIP_ID} {FEATURE_ID} {PM_RANGE}\")"
   ]
  },
  {
   "cell_type": "code",
   "execution_count": 3,
   "metadata": {},
   "outputs": [
    {
     "name": "stdout",
     "output_type": "stream",
     "text": [
      "\u001b[0;93mNo existing file found. Proceeding...\u001b[0m\n"
     ]
    }
   ],
   "source": [
    "# for book keeping\n",
    "grating_file_name = pathlib.Path(f\"{CHIP_ID}_{FEATURE_ID}.npz\")\n",
    "if grating_file_name.is_file():\n",
    "    print(\"Found existing file. Plotting...\")\n",
    "    grating_input_data = np.load(grating_file_name)\n",
    "    data_arr_cut = grating_input_data[\"data_arr_cut\"]\n",
    "    wav_arr = grating_input_data[\"wav_arr\"]\n",
    "    del grating_input_data\n",
    "    plt.close()\n",
    "    plt.plot(wav_arr, data_arr_cut)\n",
    "    plt.grid()\n",
    "    plt.xlabel(\"wavelength (nm)\")\n",
    "    plt.ylabel(\"voltage (V)\")\n",
    "    plt.title(f\"{CHIP_ID}_{FEATURE_ID} transmission\")\n",
    "    plt.annotate(\n",
    "        f\"Power meter range: {PM_RANGE} dBm\",\n",
    "        (0.15, 0.75),\n",
    "        xycoords=\"axes fraction\",\n",
    "        alpha=0.6,\n",
    "        fontsize=12,\n",
    "        fontfamily=\"monospace\",\n",
    "    )\n",
    "    plt.show()\n",
    "else:\n",
    "    print(\"\\x1b[0;93mNo existing file found. Proceeding...\\x1b[0m\")"
   ]
  },
  {
   "cell_type": "code",
   "execution_count": 4,
   "metadata": {},
   "outputs": [
    {
     "data": {
      "text/plain": [
       "('TCPIP::169.254.112.67::INSTR',\n",
       " 'TCPIP::169.254.112.67::INSTR',\n",
       " 'TCPIP::169.254.112.67::INSTR',\n",
       " 'TCPIP::169.254.112.67::INSTR')"
      ]
     },
     "execution_count": 4,
     "metadata": {},
     "output_type": "execute_result"
    }
   ],
   "source": [
    "# Always run this: device communication\n",
    "rm = pyvisa.ResourceManager()\n",
    "rm.list_resources()"
   ]
  },
  {
   "cell_type": "code",
   "execution_count": 5,
   "metadata": {},
   "outputs": [
    {
     "name": "stdout",
     "output_type": "stream",
     "text": [
      "RIGOL TECHNOLOGIES,DHO1204,HDO1B261900518,00.02.12\n",
      "\n"
     ]
    }
   ],
   "source": [
    "# # oscilloscope connection\n",
    "# Open the connection to the oscilloscope using its IP address\n",
    "oscilloscope = rm.open_resource('TCPIP::169.254.112.67::INSTR', open_timeout=5000) # For the RIGOL DHO1204 in A*STAR\n",
    "\n",
    "# Send a command to verify connection (e.g., identify the instrument)\n",
    "# Sanity check for successful communication with oscilloscope\n",
    "response = oscilloscope.query('*IDN?')\n",
    "print(response)"
   ]
  },
  {
   "cell_type": "markdown",
   "metadata": {},
   "source": [
    "PLEASE READ THE FOLLOWING CAREFULLY\n",
    "1. Turn off roll on the oscilloscope (top of the screen -> press (A), which is to the right of (H) -> Set Roll from Auto to Off)\n",
    "2. Set MemDepth to at least 1M (default is 10k)\n",
    "3. Set the time base to something on the order of seconds by adjusting the dial\n",
    "4. For CH1 (trigger channel), set the voltage (vertical) axis to the order of 4V or so\n",
    "\n",
    "To reset just press auto on the top RHS of the console"
   ]
  },
  {
   "cell_type": "code",
   "execution_count": 6,
   "metadata": {},
   "outputs": [],
   "source": [
    "# # Laser connection (laser is TSL)\n",
    "# is_connect_success = False \n",
    "# while not is_connect_success:\n",
    "#     try:\n",
    "#         TSL = rm.open_resource(\"TCPIP::169.254.82.30::5000::SOCKET\", read_termination=\"\\r\")\n",
    "#         print(TSL.query(\"*IDN?\"))\n",
    "#         print(\"\\x1b[0;92mTSL Connection established.\\x1b[0m\")\n",
    "#         is_connect_success = True\n",
    "#     except pyvisa.VisaIOError:\n",
    "#         print(\"Retrying...\")\n",
    "#         time.sleep(0.5)\n",
    "\n",
    "# if TSL.query(\":POW:STAT?\") == \"+0\":\n",
    "#     TSL.write(\":POW:STAT 1\")\n",
    "#     time.sleep(300)\n",
    "#     print(\"Laser was off. Turning on laser.\")"
   ]
  },
  {
   "cell_type": "code",
   "execution_count": 7,
   "metadata": {},
   "outputs": [
    {
     "name": "stdout",
     "output_type": "stream",
     "text": [
      "Trigger set to 0.7V on CHAN1.\n",
      "Waiting for the first trigger...\n"
     ]
    },
    {
     "ename": "KeyboardInterrupt",
     "evalue": "",
     "output_type": "error",
     "traceback": [
      "\u001b[1;31m---------------------------------------------------------------------------\u001b[0m",
      "\u001b[1;31mKeyboardInterrupt\u001b[0m                         Traceback (most recent call last)",
      "Cell \u001b[1;32mIn[7], line 82\u001b[0m\n\u001b[0;32m     79\u001b[0m setup_trigger(trigger_level\u001b[38;5;241m=\u001b[39m\u001b[38;5;241m0.7\u001b[39m)  \u001b[38;5;66;03m# Unit of trigger_level is V\u001b[39;00m\n\u001b[0;32m     80\u001b[0m \u001b[38;5;66;03m# Wait for the first trigger to occur before starting capture\u001b[39;00m\n\u001b[1;32m---> 82\u001b[0m \u001b[38;5;28;01mif\u001b[39;00m \u001b[43mwait_for_first_trigger\u001b[49m\u001b[43m(\u001b[49m\u001b[43m)\u001b[49m:\n\u001b[0;32m     83\u001b[0m     \u001b[38;5;66;03m# Monitor for further triggers and stop if no trigger occurs for 800us\u001b[39;00m\n\u001b[0;32m     84\u001b[0m     monitor_after_first_trigger(timeout_in_seconds\u001b[38;5;241m=\u001b[39m\u001b[38;5;241m1\u001b[39m)\n",
      "Cell \u001b[1;32mIn[7], line 35\u001b[0m, in \u001b[0;36mwait_for_first_trigger\u001b[1;34m()\u001b[0m\n\u001b[0;32m     33\u001b[0m \u001b[38;5;28mprint\u001b[39m(\u001b[38;5;124m\"\u001b[39m\u001b[38;5;124mWaiting for the first trigger...\u001b[39m\u001b[38;5;124m\"\u001b[39m)\n\u001b[0;32m     34\u001b[0m \u001b[38;5;28;01mwhile\u001b[39;00m \u001b[38;5;28;01mTrue\u001b[39;00m:\n\u001b[1;32m---> 35\u001b[0m     trigger_status \u001b[38;5;241m=\u001b[39m \u001b[43moscilloscope\u001b[49m\u001b[38;5;241;43m.\u001b[39;49m\u001b[43mquery\u001b[49m\u001b[43m(\u001b[49m\u001b[38;5;124;43m'\u001b[39;49m\u001b[38;5;124;43m:TRIGger:STATus?\u001b[39;49m\u001b[38;5;124;43m'\u001b[39;49m\u001b[43m)\u001b[49m\u001b[38;5;241m.\u001b[39mstrip()  \u001b[38;5;66;03m# Possible values: TD, WAIT, RUN, AUTO, STOP\u001b[39;00m\n\u001b[0;32m     37\u001b[0m     \u001b[38;5;28;01mif\u001b[39;00m trigger_status \u001b[38;5;241m==\u001b[39m \u001b[38;5;124m'\u001b[39m\u001b[38;5;124mTD\u001b[39m\u001b[38;5;124m'\u001b[39m:\n\u001b[0;32m     38\u001b[0m         \u001b[38;5;28mprint\u001b[39m(\u001b[38;5;124m\"\u001b[39m\u001b[38;5;124mFirst trigger detected. Starting capture.\u001b[39m\u001b[38;5;124m\"\u001b[39m)\n",
      "File \u001b[1;32mc:\\Users\\groov\\AppData\\Local\\Programs\\Python\\Python313\\Lib\\site-packages\\pyvisa\\resources\\messagebased.py:647\u001b[0m, in \u001b[0;36mMessageBasedResource.query\u001b[1;34m(self, message, delay)\u001b[0m\n\u001b[0;32m    644\u001b[0m \u001b[38;5;28;01mif\u001b[39;00m delay \u001b[38;5;241m>\u001b[39m \u001b[38;5;241m0.0\u001b[39m:\n\u001b[0;32m    645\u001b[0m     time\u001b[38;5;241m.\u001b[39msleep(delay)\n\u001b[1;32m--> 647\u001b[0m \u001b[38;5;28;01mreturn\u001b[39;00m \u001b[38;5;28;43mself\u001b[39;49m\u001b[38;5;241;43m.\u001b[39;49m\u001b[43mread\u001b[49m\u001b[43m(\u001b[49m\u001b[43m)\u001b[49m\n",
      "File \u001b[1;32mc:\\Users\\groov\\AppData\\Local\\Programs\\Python\\Python313\\Lib\\site-packages\\pyvisa\\resources\\messagebased.py:485\u001b[0m, in \u001b[0;36mMessageBasedResource.read\u001b[1;34m(self, termination, encoding)\u001b[0m\n\u001b[0;32m    483\u001b[0m \u001b[38;5;28;01mif\u001b[39;00m termination \u001b[38;5;129;01mis\u001b[39;00m \u001b[38;5;28;01mNone\u001b[39;00m:\n\u001b[0;32m    484\u001b[0m     termination \u001b[38;5;241m=\u001b[39m \u001b[38;5;28mself\u001b[39m\u001b[38;5;241m.\u001b[39m_read_termination\n\u001b[1;32m--> 485\u001b[0m     message \u001b[38;5;241m=\u001b[39m \u001b[38;5;28;43mself\u001b[39;49m\u001b[38;5;241;43m.\u001b[39;49m\u001b[43m_read_raw\u001b[49m\u001b[43m(\u001b[49m\u001b[43m)\u001b[49m\u001b[38;5;241m.\u001b[39mdecode(enco)\n\u001b[0;32m    486\u001b[0m \u001b[38;5;28;01melse\u001b[39;00m:\n\u001b[0;32m    487\u001b[0m     \u001b[38;5;28;01mwith\u001b[39;00m \u001b[38;5;28mself\u001b[39m\u001b[38;5;241m.\u001b[39mread_termination_context(termination):\n",
      "File \u001b[1;32mc:\\Users\\groov\\AppData\\Local\\Programs\\Python\\Python313\\Lib\\site-packages\\pyvisa\\resources\\messagebased.py:441\u001b[0m, in \u001b[0;36mMessageBasedResource._read_raw\u001b[1;34m(self, size)\u001b[0m\n\u001b[0;32m    434\u001b[0m     \u001b[38;5;28;01mwhile\u001b[39;00m status \u001b[38;5;241m==\u001b[39m loop_status:\n\u001b[0;32m    435\u001b[0m         logger\u001b[38;5;241m.\u001b[39mdebug(\n\u001b[0;32m    436\u001b[0m             \u001b[38;5;124m\"\u001b[39m\u001b[38;5;132;01m%s\u001b[39;00m\u001b[38;5;124m - reading \u001b[39m\u001b[38;5;132;01m%d\u001b[39;00m\u001b[38;5;124m bytes (last status \u001b[39m\u001b[38;5;132;01m%r\u001b[39;00m\u001b[38;5;124m)\u001b[39m\u001b[38;5;124m\"\u001b[39m,\n\u001b[0;32m    437\u001b[0m             \u001b[38;5;28mself\u001b[39m\u001b[38;5;241m.\u001b[39m_resource_name,\n\u001b[0;32m    438\u001b[0m             size,\n\u001b[0;32m    439\u001b[0m             status,\n\u001b[0;32m    440\u001b[0m         )\n\u001b[1;32m--> 441\u001b[0m         chunk, status \u001b[38;5;241m=\u001b[39m \u001b[38;5;28;43mself\u001b[39;49m\u001b[38;5;241;43m.\u001b[39;49m\u001b[43mvisalib\u001b[49m\u001b[38;5;241;43m.\u001b[39;49m\u001b[43mread\u001b[49m\u001b[43m(\u001b[49m\u001b[38;5;28;43mself\u001b[39;49m\u001b[38;5;241;43m.\u001b[39;49m\u001b[43msession\u001b[49m\u001b[43m,\u001b[49m\u001b[43m \u001b[49m\u001b[43msize\u001b[49m\u001b[43m)\u001b[49m\n\u001b[0;32m    442\u001b[0m         ret\u001b[38;5;241m.\u001b[39mextend(chunk)\n\u001b[0;32m    443\u001b[0m \u001b[38;5;28;01mexcept\u001b[39;00m errors\u001b[38;5;241m.\u001b[39mVisaIOError \u001b[38;5;28;01mas\u001b[39;00m e:\n",
      "File \u001b[1;32mc:\\Users\\groov\\AppData\\Local\\Programs\\Python\\Python313\\Lib\\site-packages\\pyvisa_py\\highlevel.py:513\u001b[0m, in \u001b[0;36mPyVisaLibrary.read\u001b[1;34m(self, session, count)\u001b[0m\n\u001b[0;32m    511\u001b[0m \u001b[38;5;66;03m# from the session handle, dispatch to the read method of the session object.\u001b[39;00m\n\u001b[0;32m    512\u001b[0m \u001b[38;5;28;01mtry\u001b[39;00m:\n\u001b[1;32m--> 513\u001b[0m     data, status_code \u001b[38;5;241m=\u001b[39m \u001b[38;5;28;43mself\u001b[39;49m\u001b[38;5;241;43m.\u001b[39;49m\u001b[43msessions\u001b[49m\u001b[43m[\u001b[49m\u001b[43msession\u001b[49m\u001b[43m]\u001b[49m\u001b[38;5;241;43m.\u001b[39;49m\u001b[43mread\u001b[49m\u001b[43m(\u001b[49m\u001b[43mcount\u001b[49m\u001b[43m)\u001b[49m\n\u001b[0;32m    514\u001b[0m \u001b[38;5;28;01mexcept\u001b[39;00m \u001b[38;5;167;01mKeyError\u001b[39;00m:\n\u001b[0;32m    515\u001b[0m     \u001b[38;5;28;01mreturn\u001b[39;00m (\n\u001b[0;32m    516\u001b[0m         \u001b[38;5;124mb\u001b[39m\u001b[38;5;124m\"\u001b[39m\u001b[38;5;124m\"\u001b[39m,\n\u001b[0;32m    517\u001b[0m         \u001b[38;5;28mself\u001b[39m\u001b[38;5;241m.\u001b[39mhandle_return_value(session, StatusCode\u001b[38;5;241m.\u001b[39merror_invalid_object),\n\u001b[0;32m    518\u001b[0m     )\n",
      "File \u001b[1;32mc:\\Users\\groov\\AppData\\Local\\Programs\\Python\\Python313\\Lib\\site-packages\\pyvisa_py\\tcpip.py:539\u001b[0m, in \u001b[0;36mTCPIPInstrVxi11.read\u001b[1;34m(self, count)\u001b[0m\n\u001b[0;32m    535\u001b[0m \u001b[38;5;28;01mwhile\u001b[39;00m reason \u001b[38;5;241m&\u001b[39m end_reason \u001b[38;5;241m==\u001b[39m \u001b[38;5;241m0\u001b[39m:\n\u001b[0;32m    536\u001b[0m     \u001b[38;5;66;03m# Decrease timeout so that the total timeout does not get larger\u001b[39;00m\n\u001b[0;32m    537\u001b[0m     \u001b[38;5;66;03m# than the specified timeout.\u001b[39;00m\n\u001b[0;32m    538\u001b[0m     timeout \u001b[38;5;241m=\u001b[39m \u001b[38;5;28mmax\u001b[39m(\u001b[38;5;241m0\u001b[39m, timeout \u001b[38;5;241m-\u001b[39m \u001b[38;5;28mint\u001b[39m((time\u001b[38;5;241m.\u001b[39mtime() \u001b[38;5;241m-\u001b[39m start_time) \u001b[38;5;241m*\u001b[39m \u001b[38;5;241m1000\u001b[39m))\n\u001b[1;32m--> 539\u001b[0m     error, reason, data \u001b[38;5;241m=\u001b[39m \u001b[43mread_fun\u001b[49m\u001b[43m(\u001b[49m\n\u001b[0;32m    540\u001b[0m \u001b[43m        \u001b[49m\u001b[38;5;28;43mself\u001b[39;49m\u001b[38;5;241;43m.\u001b[39;49m\u001b[43mlink\u001b[49m\u001b[43m,\u001b[49m\u001b[43m \u001b[49m\u001b[43mchunk_length\u001b[49m\u001b[43m,\u001b[49m\u001b[43m \u001b[49m\u001b[43mtimeout\u001b[49m\u001b[43m,\u001b[49m\u001b[43m \u001b[49m\u001b[38;5;28;43mself\u001b[39;49m\u001b[38;5;241;43m.\u001b[39;49m\u001b[43mlock_timeout\u001b[49m\u001b[43m,\u001b[49m\u001b[43m \u001b[49m\u001b[43mflags\u001b[49m\u001b[43m,\u001b[49m\u001b[43m \u001b[49m\u001b[43mterm_char\u001b[49m\n\u001b[0;32m    541\u001b[0m \u001b[43m    \u001b[49m\u001b[43m)\u001b[49m\n\u001b[0;32m    543\u001b[0m     \u001b[38;5;28;01mif\u001b[39;00m error \u001b[38;5;241m==\u001b[39m vxi11\u001b[38;5;241m.\u001b[39mErrorCodes\u001b[38;5;241m.\u001b[39mio_timeout:\n\u001b[0;32m    544\u001b[0m         \u001b[38;5;28;01mreturn\u001b[39;00m \u001b[38;5;28mbytes\u001b[39m(read_data), StatusCode\u001b[38;5;241m.\u001b[39merror_timeout\n",
      "File \u001b[1;32mc:\\Users\\groov\\AppData\\Local\\Programs\\Python\\Python313\\Lib\\site-packages\\pyvisa_py\\protocols\\vxi11.py:236\u001b[0m, in \u001b[0;36mCoreClient.device_read\u001b[1;34m(self, link, request_size, io_timeout, lock_timeout, flags, term_char)\u001b[0m\n\u001b[0;32m    234\u001b[0m params \u001b[38;5;241m=\u001b[39m (link, request_size, io_timeout, lock_timeout, flags, term_char)\n\u001b[0;32m    235\u001b[0m \u001b[38;5;28;01mtry\u001b[39;00m:\n\u001b[1;32m--> 236\u001b[0m     \u001b[38;5;28;01mreturn\u001b[39;00m \u001b[38;5;28;43mself\u001b[39;49m\u001b[38;5;241;43m.\u001b[39;49m\u001b[43mmake_call\u001b[49m\u001b[43m(\u001b[49m\n\u001b[0;32m    237\u001b[0m \u001b[43m        \u001b[49m\u001b[43mDEVICE_READ\u001b[49m\u001b[43m,\u001b[49m\n\u001b[0;32m    238\u001b[0m \u001b[43m        \u001b[49m\u001b[43mparams\u001b[49m\u001b[43m,\u001b[49m\n\u001b[0;32m    239\u001b[0m \u001b[43m        \u001b[49m\u001b[38;5;28;43mself\u001b[39;49m\u001b[38;5;241;43m.\u001b[39;49m\u001b[43mpacker\u001b[49m\u001b[38;5;241;43m.\u001b[39;49m\u001b[43mpack_device_read_parms\u001b[49m\u001b[43m,\u001b[49m\n\u001b[0;32m    240\u001b[0m \u001b[43m        \u001b[49m\u001b[38;5;28;43mself\u001b[39;49m\u001b[38;5;241;43m.\u001b[39;49m\u001b[43munpacker\u001b[49m\u001b[38;5;241;43m.\u001b[39;49m\u001b[43munpack_device_read_resp\u001b[49m\u001b[43m,\u001b[49m\n\u001b[0;32m    241\u001b[0m \u001b[43m    \u001b[49m\u001b[43m)\u001b[49m\n\u001b[0;32m    242\u001b[0m \u001b[38;5;28;01mexcept\u001b[39;00m socket\u001b[38;5;241m.\u001b[39mtimeout \u001b[38;5;28;01mas\u001b[39;00m e:\n\u001b[0;32m    243\u001b[0m     \u001b[38;5;28;01mreturn\u001b[39;00m ErrorCodes\u001b[38;5;241m.\u001b[39mio_error, e\u001b[38;5;241m.\u001b[39margs[\u001b[38;5;241m0\u001b[39m], \u001b[38;5;124m\"\u001b[39m\u001b[38;5;124m\"\u001b[39m\n",
      "File \u001b[1;32mc:\\Users\\groov\\AppData\\Local\\Programs\\Python\\Python313\\Lib\\site-packages\\pyvisa_py\\protocols\\rpc.py:480\u001b[0m, in \u001b[0;36mRawTCPClient.make_call\u001b[1;34m(self, proc, args, pack_func, unpack_func)\u001b[0m\n\u001b[0;32m    474\u001b[0m \u001b[38;5;66;03m# In case of a timeout because the instrument cannot answer, the\u001b[39;00m\n\u001b[0;32m    475\u001b[0m \u001b[38;5;66;03m# instrument should let use something went wrong. If we hit the hard\u001b[39;00m\n\u001b[0;32m    476\u001b[0m \u001b[38;5;66;03m# timeout of the rpc, it means something worse happened (cable\u001b[39;00m\n\u001b[0;32m    477\u001b[0m \u001b[38;5;66;03m# unplugged).\u001b[39;00m\n\u001b[0;32m    478\u001b[0m \u001b[38;5;28mself\u001b[39m\u001b[38;5;241m.\u001b[39mtimeout \u001b[38;5;241m+\u001b[39m\u001b[38;5;241m=\u001b[39m \u001b[38;5;241m1.0\u001b[39m\n\u001b[1;32m--> 480\u001b[0m \u001b[38;5;28;01mreturn\u001b[39;00m \u001b[38;5;28;43msuper\u001b[39;49m\u001b[43m(\u001b[49m\u001b[43mRawTCPClient\u001b[49m\u001b[43m,\u001b[49m\u001b[43m \u001b[49m\u001b[38;5;28;43mself\u001b[39;49m\u001b[43m)\u001b[49m\u001b[38;5;241;43m.\u001b[39;49m\u001b[43mmake_call\u001b[49m\u001b[43m(\u001b[49m\u001b[43mproc\u001b[49m\u001b[43m,\u001b[49m\u001b[43m \u001b[49m\u001b[43margs\u001b[49m\u001b[43m,\u001b[49m\u001b[43m \u001b[49m\u001b[43mpack_func\u001b[49m\u001b[43m,\u001b[49m\u001b[43m \u001b[49m\u001b[43munpack_func\u001b[49m\u001b[43m)\u001b[49m\n",
      "File \u001b[1;32mc:\\Users\\groov\\AppData\\Local\\Programs\\Python\\Python313\\Lib\\site-packages\\pyvisa_py\\protocols\\rpc.py:235\u001b[0m, in \u001b[0;36mClient.make_call\u001b[1;34m(self, proc, args, pack_func, unpack_func)\u001b[0m\n\u001b[0;32m    233\u001b[0m \u001b[38;5;28;01mif\u001b[39;00m pack_func:\n\u001b[0;32m    234\u001b[0m     pack_func(args)\n\u001b[1;32m--> 235\u001b[0m \u001b[38;5;28;43mself\u001b[39;49m\u001b[38;5;241;43m.\u001b[39;49m\u001b[43mdo_call\u001b[49m\u001b[43m(\u001b[49m\u001b[43m)\u001b[49m\n\u001b[0;32m    236\u001b[0m \u001b[38;5;28;01mif\u001b[39;00m unpack_func:\n\u001b[0;32m    237\u001b[0m     result \u001b[38;5;241m=\u001b[39m unpack_func()\n",
      "File \u001b[1;32mc:\\Users\\groov\\AppData\\Local\\Programs\\Python\\Python313\\Lib\\site-packages\\pyvisa_py\\protocols\\rpc.py:508\u001b[0m, in \u001b[0;36mRawTCPClient.do_call\u001b[1;34m(self)\u001b[0m\n\u001b[0;32m    505\u001b[0m     min_packages \u001b[38;5;241m=\u001b[39m \u001b[38;5;241m0\u001b[39m\n\u001b[0;32m    507\u001b[0m \u001b[38;5;28;01mwhile\u001b[39;00m \u001b[38;5;28;01mTrue\u001b[39;00m:\n\u001b[1;32m--> 508\u001b[0m     reply \u001b[38;5;241m=\u001b[39m \u001b[43m_recvrecord\u001b[49m\u001b[43m(\u001b[49m\u001b[38;5;28;43mself\u001b[39;49m\u001b[38;5;241;43m.\u001b[39;49m\u001b[43msock\u001b[49m\u001b[43m,\u001b[49m\u001b[43m \u001b[49m\u001b[38;5;28;43mself\u001b[39;49m\u001b[38;5;241;43m.\u001b[39;49m\u001b[43mtimeout\u001b[49m\u001b[43m,\u001b[49m\u001b[43m \u001b[49m\u001b[43mmin_packages\u001b[49m\u001b[38;5;241;43m=\u001b[39;49m\u001b[43mmin_packages\u001b[49m\u001b[43m)\u001b[49m\n\u001b[0;32m    509\u001b[0m     u \u001b[38;5;241m=\u001b[39m \u001b[38;5;28mself\u001b[39m\u001b[38;5;241m.\u001b[39munpacker\n\u001b[0;32m    510\u001b[0m     u\u001b[38;5;241m.\u001b[39mreset(reply)\n",
      "File \u001b[1;32mc:\\Users\\groov\\AppData\\Local\\Programs\\Python\\Python313\\Lib\\site-packages\\pyvisa_py\\protocols\\rpc.py:353\u001b[0m, in \u001b[0;36m_recvrecord\u001b[1;34m(sock, timeout, read_fun, min_packages)\u001b[0m\n\u001b[0;32m    349\u001b[0m \u001b[38;5;28;01mwhile\u001b[39;00m \u001b[38;5;28;01mTrue\u001b[39;00m:\n\u001b[0;32m    350\u001b[0m     \u001b[38;5;66;03m# if more data for the current fragment is needed, use select\u001b[39;00m\n\u001b[0;32m    351\u001b[0m     \u001b[38;5;66;03m# to wait for read ready, max `select_timeout` seconds\u001b[39;00m\n\u001b[0;32m    352\u001b[0m     \u001b[38;5;28;01mif\u001b[39;00m \u001b[38;5;28mlen\u001b[39m(buffer) \u001b[38;5;241m<\u001b[39m exp_length:\n\u001b[1;32m--> 353\u001b[0m         r, w, x \u001b[38;5;241m=\u001b[39m \u001b[43mselect\u001b[49m\u001b[38;5;241;43m.\u001b[39;49m\u001b[43mselect\u001b[49m\u001b[43m(\u001b[49m\u001b[43m[\u001b[49m\u001b[43msock\u001b[49m\u001b[43m]\u001b[49m\u001b[43m,\u001b[49m\u001b[43m \u001b[49m\u001b[43m[\u001b[49m\u001b[43m]\u001b[49m\u001b[43m,\u001b[49m\u001b[43m \u001b[49m\u001b[43m[\u001b[49m\u001b[43m]\u001b[49m\u001b[43m,\u001b[49m\u001b[43m \u001b[49m\u001b[43mselect_timeout\u001b[49m\u001b[43m)\u001b[49m\n\u001b[0;32m    354\u001b[0m         read_data \u001b[38;5;241m=\u001b[39m \u001b[38;5;124mb\u001b[39m\u001b[38;5;124m\"\u001b[39m\u001b[38;5;124m\"\u001b[39m\n\u001b[0;32m    355\u001b[0m         \u001b[38;5;28;01mif\u001b[39;00m sock \u001b[38;5;129;01min\u001b[39;00m r:\n",
      "\u001b[1;31mKeyboardInterrupt\u001b[0m: "
     ]
    }
   ],
   "source": [
    "## Some code to start and stop the capturing programmatically\n",
    "\n",
    "# Function to stop capturing\n",
    "def stop_running():\n",
    "    oscilloscope.write(':STOP')\n",
    "    print(\"Oscilloscope stopped running and capturing.\")\n",
    "\n",
    "# Function to set up and enable triggering\n",
    "def setup_trigger(trigger_level, trigger_source='CHAN1'):\n",
    "    # Set the trigger source (e.g., Channel 1)\n",
    "    oscilloscope.write(f':TRIGger:EDGE:SOURce {trigger_source}')\n",
    "    \n",
    "    # Set the trigger level (e.g., 0.5V)\n",
    "    oscilloscope.write(f':TRIGger:EDGE:LEVel {trigger_level}')\n",
    "    \n",
    "    # Set the trigger type (e.g., edge trigger on a rising edge)\n",
    "    oscilloscope.write(':TRIGger:EDGE:SLOPe POSitive')\n",
    "    \n",
    "    print(f\"Trigger set to {trigger_level}V on {trigger_source}.\")\n",
    "\n",
    "# # Function to force a trigger (useful for testing)\n",
    "# def force_trigger():\n",
    "#     oscilloscope.write(':TFORce')\n",
    "#     print(\"Manual trigger executed.\")\n",
    "\n",
    "def wait_for_first_trigger():\n",
    "    \"\"\"\n",
    "    Waits for the first trigger event to occur. Once detected, it returns True to proceed.\n",
    "    \"\"\"\n",
    "    oscilloscope.write(':RUN') # Need oscilloscope to start running before it can capture anything\n",
    "    # The trigger will automatically start capturing once the trigger is detected\n",
    "\n",
    "    print(\"Waiting for the first trigger...\")\n",
    "    while True:\n",
    "        trigger_status = oscilloscope.query(':TRIGger:STATus?').strip()  # Possible values: TD, WAIT, RUN, AUTO, STOP\n",
    "        \n",
    "        if trigger_status == 'TD':\n",
    "            print(\"First trigger detected. Starting capture.\")\n",
    "            return True\n",
    "            \n",
    "        # except pyvisa.errors.VisaIOError:\n",
    "        #     print(\"Error: Failed to read trigger status. Retrying...\")\n",
    "        #     continue\n",
    "\n",
    "def monitor_after_first_trigger(timeout_in_seconds):\n",
    "    \"\"\"\n",
    "    Monitors the oscilloscope after the first trigger. If no events occur within the timeout period (default: 800us),\n",
    "    it stops capturing.\n",
    "    \"\"\"\n",
    "    \n",
    "    # # Convert timeout from microseconds to seconds\n",
    "    # timeout_s = timeout_us / 1e6\n",
    "\n",
    "    # Initialize the start time outside the loop\n",
    "    start_time = time.time() # time.time counts the seconds since the epoch\n",
    "    print(f\"Start time: {start_time}\")\n",
    "\n",
    "    while True:\n",
    "        # Query the oscilloscope for its trigger status\n",
    "        trigger_status = oscilloscope.query(':TRIGger:STATus?').strip()  # Possible values: TD, WAIT, RUN, AUTO, STOP\n",
    "        \n",
    "        # Check if the oscilloscope status indicates a trigger event (TD) occurred\n",
    "        if trigger_status == 'TD':\n",
    "            # Reset the timer if a trigger event occurred\n",
    "            start_time = time.time()\n",
    "            print(\"Triggered\")\n",
    "    \n",
    "        # except pyvisa.errors.VisaIOError:\n",
    "        #     print(\"Error: Failed to read trigger status. Retrying...\")\n",
    "        #     continue\n",
    "        \n",
    "        # Check if the timeout period has passed with no trigger event\n",
    "        elif (time.time() - start_time) >= timeout_in_seconds:\n",
    "            stop_running()\n",
    "            print(\"No triggers detected within the timeout period. Capture stopped.\")\n",
    "            break\n",
    "\n",
    "# Set up the trigger\n",
    "setup_trigger(trigger_level=0.7)  # Unit of trigger_level is V\n",
    "# Wait for the first trigger to occur before starting capture\n",
    "\n",
    "if wait_for_first_trigger():\n",
    "    # Monitor for further triggers and stop if no trigger occurs for 800us\n",
    "    monitor_after_first_trigger(timeout_in_seconds=1)"
   ]
  },
  {
   "cell_type": "code",
   "execution_count": 8,
   "metadata": {},
   "outputs": [],
   "source": [
    "# # more oscilloscope code\n",
    "\n",
    "# def getData(DSO, channel=2):\n",
    "#     DSO.write(f\":WAV:SOUR CHAN{int(channel)}\")\n",
    "#     DSO.write(\":WAV:POINTS 5500000\")\n",
    "#     sRange = DSO.query(\"WAV:PRE?\")\n",
    "#     lRange = sRange.split(\",\")\n",
    "#     # <format 16-bit NR1>, <type 16-bit NR1>, <points 32-bit NR1>, <count 32-bit NR1>,\n",
    "#     # <xincrement 64-bit floating point NR3>, <xorigin 64-bit floating point NR3>,\n",
    "#     # <xreference 32-bit NR1>,\n",
    "#     # <yincrement 32-bit floating point NR3>, <yorigin 32-bit floating point NR3>,\n",
    "#     # <yreference 32-bit NR1>\n",
    "#     # iStep = 256 if int(lRange[0])==0 else 65536\n",
    "#     # pts = int(lRange[2])\n",
    "#     dt = float(lRange[4])\n",
    "#     gain = float(lRange[7])\n",
    "#     y_offs = float(lRange[8])\n",
    "#     y_offs_byte = int(lRange[9])\n",
    "#     # get data as i16, convert to numpy array\n",
    "#     DSO.write(\"WAV:DATA?\")\n",
    "#     sHead0 = DSO.read_bytes(count=10)\n",
    "#     # strip header to find # of points\n",
    "#     i0 = sHead0.find(b\"#\")\n",
    "#     nDig = int(chr(sHead0[i0 + 1]))  # [i0+1:i0+2])\n",
    "#     nByte = int((sHead0[i0 + 2 : i0 + 2 + nDig]))\n",
    "#     # read data, including final line feed\n",
    "#     sData = DSO.read_bytes(count=1 + nByte)\n",
    "#     # get data to numpy array\n",
    "#     vData = np.frombuffer(sData[:-1], dtype=\"uint8\")\n",
    "#     data_arr = gain * (vData) + y_offs - gain * (y_offs_byte)\n",
    "#     time_arr = np.linspace(0, data_arr.size, data_arr.size) * dt\n",
    "#     # time.sleep(5)\n",
    "\n",
    "#     return data_arr, time_arr"
   ]
  },
  {
   "cell_type": "code",
   "execution_count": 9,
   "metadata": {},
   "outputs": [],
   "source": [
    "# Sanity check for trigger\n",
    "# TSL.query(\"TRIG:OUTP:STEP?\")"
   ]
  },
  {
   "cell_type": "code",
   "execution_count": 10,
   "metadata": {},
   "outputs": [],
   "source": [
    "# WAV_START = 1530 # start wavelength\n",
    "# WAV_END = 1640 # stop wavelength"
   ]
  },
  {
   "cell_type": "code",
   "execution_count": 11,
   "metadata": {},
   "outputs": [],
   "source": [
    "# # arms the trigger\n",
    "\n",
    "# TSL.write(\"WAV:SWE 0\")\n",
    "# time.sleep(0.5)\n",
    "# TSL.write(F\"WAV:SWE:STAR {WAV_START}E-9\")\n",
    "# time.sleep(0.1)\n",
    "# TSL.write(F\"WAV:SWE:STOP {WAV_END}E-9\")\n",
    "# time.sleep(0.1)\n",
    "# TSL.write(\"WAV:SWE 1\")\n",
    "# time.sleep(0.1)"
   ]
  },
  {
   "cell_type": "code",
   "execution_count": 12,
   "metadata": {},
   "outputs": [],
   "source": [
    "# time_range = 10 # sleep time (next cell)\n",
    "# time_pos = 4\n",
    "\n",
    "# # # oscilloscope code\n",
    "# # DSO.write(f\":TIM:RANG {time_range}\")\n",
    "# # time.sleep(0.1)\n",
    "# # DSO.write(f\":TIM:POS {time_pos}\")\n",
    "# # time.sleep(0.1)\n",
    "# # DSO.write(\"SING\")\n",
    "# # time.sleep(0.1)"
   ]
  },
  {
   "cell_type": "code",
   "execution_count": 13,
   "metadata": {},
   "outputs": [],
   "source": [
    "# # runs the sweep\n",
    "# time.sleep(2)\n",
    "# TSL.write(\":TRIG:INP:SOFT\")\n",
    "# time.sleep(time_range*1.1)"
   ]
  },
  {
   "cell_type": "code",
   "execution_count": 14,
   "metadata": {},
   "outputs": [],
   "source": [
    "# data_arr, time_arr = getData(DSO, channel=1)\n",
    "# time.sleep(0.1)\n",
    "# clock_arr, time_arr = getData(DSO, channel=2)\n",
    "# time.sleep(0.1)"
   ]
  },
  {
   "cell_type": "code",
   "execution_count": 15,
   "metadata": {},
   "outputs": [],
   "source": [
    "# plt.plot(time_arr, data_arr)\n",
    "# plt.show()"
   ]
  },
  {
   "cell_type": "code",
   "execution_count": 16,
   "metadata": {},
   "outputs": [],
   "source": [
    "# plt.plot(time_arr, clock_arr)\n",
    "# plt.show()"
   ]
  },
  {
   "cell_type": "code",
   "execution_count": 17,
   "metadata": {},
   "outputs": [],
   "source": [
    "# # start_idx = np.where(clock_arr > 0.5)[0][0]\n",
    "# end_idx = np.where(clock_arr > 0.5)[0][-1]"
   ]
  },
  {
   "cell_type": "code",
   "execution_count": 18,
   "metadata": {},
   "outputs": [],
   "source": [
    "# time_arr_cut = time_arr[start_idx:end_idx]\n",
    "# data_arr_cut = data_arr[start_idx:end_idx]\n",
    "# clock_arr_cut = clock_arr[start_idx:end_idx]"
   ]
  },
  {
   "cell_type": "code",
   "execution_count": 19,
   "metadata": {},
   "outputs": [],
   "source": [
    "# wav_arr = np.linspace(WAV_START, WAV_END, time_arr_cut.size)"
   ]
  },
  {
   "cell_type": "code",
   "execution_count": 20,
   "metadata": {},
   "outputs": [],
   "source": [
    "# chip_name = f\"{CHIP_ID} {FEATURE_ID}\""
   ]
  },
  {
   "cell_type": "code",
   "execution_count": 21,
   "metadata": {},
   "outputs": [],
   "source": [
    "# plt.close()\n",
    "# plt.figure(figsize=(16, 10))\n",
    "# plt.plot(wav_arr, data_arr_cut * 10 ** (PM_RANGE / 10) * 1e-3)\n",
    "# plt.grid()\n",
    "# plt.xlabel(\"wavelength (nm)\")\n",
    "# plt.ylabel(\"power (W)\")\n",
    "# plt.ylim(0, None)\n",
    "# # plt.title(f'ESO reflection 1500-1600nm, faster sweep speed')\n",
    "# plt.title(f\"{chip_name} transmission\")\n",
    "# plt.annotate(\n",
    "#     f\"Power meter range: {PM_RANGE} dBm\",\n",
    "#     (0.15, 0.75),\n",
    "#     xycoords=\"axes fraction\",\n",
    "#     alpha=0.6,\n",
    "#     fontsize=12,\n",
    "#     fontfamily=\"monospace\",\n",
    "# )\n",
    "# plt.show()"
   ]
  },
  {
   "cell_type": "code",
   "execution_count": 22,
   "metadata": {},
   "outputs": [],
   "source": [
    "# plt.close()\n",
    "# plt.figure(figsize=(16, 10))\n",
    "# plt.plot(wav_arr, data_arr_cut * 10 ** (PM_RANGE / 10) * 1e-3)\n",
    "# plt.grid()\n",
    "# plt.xlabel(\"wavelength (nm)\")\n",
    "# plt.ylabel(\"power (W)\")\n",
    "# # plt.title(f'ESO reflection 1500-1600nm, faster sweep speed')\n",
    "# plt.title(f\"{chip_name} transmission\")\n",
    "# plt.annotate(\n",
    "#     f\"Power meter range: {PM_RANGE} dBm\",\n",
    "#     (0.15, 0.75),\n",
    "#     xycoords=\"axes fraction\",\n",
    "#     alpha=0.6,\n",
    "#     fontsize=12,\n",
    "#     fontfamily=\"monospace\",\n",
    "# )\n",
    "# plt.show()"
   ]
  },
  {
   "cell_type": "code",
   "execution_count": 23,
   "metadata": {},
   "outputs": [],
   "source": [
    "# plt.close()\n",
    "# plt.figure(figsize=(16, 10))\n",
    "# watt = list(data_arr_cut * 10 ** (PM_RANGE / 10) * 1e-3)\n",
    "# dBm = list(map(lambda x: math.log10(x) * 10 + 30, watt))\n",
    "# plt.plot(wav_arr, dBm)\n",
    "# plt.grid()\n",
    "# plt.xlabel(\"wavelength (nm)\")\n",
    "# plt.ylabel(\"power (dBm)\")\n",
    "# # plt.title(f'ESO reflection 1500-1600nm, faster sweep speed')\n",
    "# plt.title(f\"{chip_name} transmission\")\n",
    "# plt.annotate(\n",
    "#     f\"Power meter range: {PM_RANGE} dBm\",\n",
    "#     (0.15, 0.75),\n",
    "#     xycoords=\"axes fraction\",\n",
    "#     alpha=0.6,\n",
    "#     fontsize=12,\n",
    "#     fontfamily=\"monospace\",\n",
    "# )\n",
    "# plt.show()"
   ]
  },
  {
   "cell_type": "code",
   "execution_count": 24,
   "metadata": {},
   "outputs": [],
   "source": [
    "# plt.close()\n",
    "# plt.plot(wav_arr, data_arr_cut)\n",
    "# plt.grid()\n",
    "# plt.xlabel(\"wavelength (nm)\")\n",
    "# plt.ylabel(\"voltage (V)\")\n",
    "# plt.title(f\"{chip_name} transmission\")\n",
    "# plt.annotate(\n",
    "#     f\"Power meter range: {PM_RANGE} dBm\",\n",
    "#     (0.15, 0.75),\n",
    "#     xycoords=\"axes fraction\",\n",
    "#     alpha=0.6,\n",
    "#     fontsize=12,\n",
    "#     fontfamily=\"monospace\",\n",
    "# )\n",
    "# plt.gcf().set_dpi(200)\n",
    "# plt.show()"
   ]
  },
  {
   "cell_type": "code",
   "execution_count": 25,
   "metadata": {},
   "outputs": [],
   "source": [
    "# np.savez(\n",
    "#     f\"{CHIP_ID}_{FEATURE_ID}.npz\",\n",
    "#     time_arr=time_arr,\n",
    "#     data_arr=data_arr,\n",
    "#     clock_arr=clock_arr,\n",
    "#     wav_arr=wav_arr,\n",
    "#     time_arr_cut=time_arr_cut,\n",
    "#     data_arr_cut=data_arr_cut,\n",
    "#     chip_name=chip_name,\n",
    "#     PM_RANGE=PM_RANGE,\n",
    "# )"
   ]
  },
  {
   "cell_type": "code",
   "execution_count": 26,
   "metadata": {},
   "outputs": [],
   "source": [
    "# TSL.write(\"WAV:SWE 0\")"
   ]
  },
  {
   "cell_type": "code",
   "execution_count": 27,
   "metadata": {},
   "outputs": [],
   "source": [
    "# TSL.write(\"WAV 1520nm\")"
   ]
  },
  {
   "cell_type": "code",
   "execution_count": 28,
   "metadata": {},
   "outputs": [],
   "source": [
    "# # if TSL.query(\":POW:STAT?\") == \"+1\":\n",
    "# #     TSL.write(\":POW:STAT 0\") # Turn off laser\n",
    "# TSL.close()\n",
    "# DSO.close()\n",
    "# del TSL\n",
    "# del DSO"
   ]
  }
 ],
 "metadata": {
  "kernelspec": {
   "display_name": "Python 3",
   "language": "python",
   "name": "python3"
  },
  "language_info": {
   "codemirror_mode": {
    "name": "ipython",
    "version": 3
   },
   "file_extension": ".py",
   "mimetype": "text/x-python",
   "name": "python",
   "nbconvert_exporter": "python",
   "pygments_lexer": "ipython3",
   "version": "3.13.0"
  }
 },
 "nbformat": 4,
 "nbformat_minor": 2
}
