{
 "cells": [
  {
   "cell_type": "markdown",
   "metadata": {},
   "source": [
    "Set the trigger to manual on the laser console."
   ]
  },
  {
   "cell_type": "code",
   "execution_count": 1,
   "metadata": {},
   "outputs": [
    {
     "name": "stdout",
     "output_type": "stream",
     "text": [
      "\u001b[1;3;4;96mDate of running the code:\u001b[0m \u001b[1;3;4;92m20241018\u001b[0m\n",
      "Time of running the code: 11:11:02\n"
     ]
    }
   ],
   "source": [
    "import numpy as np\n",
    "import pathlib\n",
    "import pyvisa\n",
    "import time\n",
    "import matplotlib.pyplot as plt\n",
    "import math\n",
    "from datetime import datetime\n",
    "TODAY_STR = datetime.now().strftime(\"%Y%m%d\")\n",
    "print(f\"\\x1b[1;3;4;96mDate of running the code:\\x1b[0m \\x1b[1;3;4;92m{TODAY_STR}\\x1b[0m\")\n",
    "print(f\"Time of running the code: {datetime.now().strftime(\"%H:%M:%S\")}\")"
   ]
  },
  {
   "cell_type": "code",
   "execution_count": 4,
   "metadata": {},
   "outputs": [
    {
     "data": {
      "text/plain": [
       "('TCPIP::169.254.112.67::INSTR',\n",
       " 'TCPIP::169.254.112.67::INSTR',\n",
       " 'TCPIP::169.254.112.67::INSTR',\n",
       " 'TCPIP::169.254.112.67::INSTR')"
      ]
     },
     "execution_count": 4,
     "metadata": {},
     "output_type": "execute_result"
    }
   ],
   "source": [
    "# Always run this: device communication\n",
    "rm = pyvisa.ResourceManager()\n",
    "rm.list_resources()"
   ]
  },
  {
   "cell_type": "code",
   "execution_count": 5,
   "metadata": {},
   "outputs": [
    {
     "name": "stdout",
     "output_type": "stream",
     "text": [
      "RIGOL TECHNOLOGIES,DHO1204,HDO1B261900518,00.02.12\n",
      "\n"
     ]
    }
   ],
   "source": [
    "# # oscilloscope connection\n",
    "# Open the connection to the oscilloscope using its IP address\n",
    "oscilloscope = rm.open_resource('TCPIP::169.254.112.67::INSTR', open_timeout=5000) # For the RIGOL DHO1204 in A*STAR\n",
    "\n",
    "# Send a command to verify connection (e.g., identify the instrument)\n",
    "# Sanity check for successful communication with oscilloscope\n",
    "response = oscilloscope.query('*IDN?')\n",
    "print(response)"
   ]
  },
  {
   "cell_type": "code",
   "execution_count": null,
   "metadata": {},
   "outputs": [],
   "source": [
    "oscilloscope.write(':TIMebase:ROLL 0')\n",
    "oscilloscope.write(':ACQuire:MDEPth 1M')    # Check again if this command is working! If not manually set MemDepth\n",
    "oscilloscope.write(':TIMebase:MAIN:SCALe 2')\n",
    "oscilloscope.write(':CHANnel1:SCALe 2')\n",
    "oscilloscope.write(':CHANnel1:OFFSet 0')\n",
    "oscilloscope.write(':TIMebase:MAIN:OFFSet 0')"
   ]
  },
  {
   "cell_type": "code",
   "execution_count": 7,
   "metadata": {},
   "outputs": [],
   "source": [
    "# # Laser connection (laser is TSL)\n",
    "# is_connect_success = False \n",
    "# while not is_connect_success:\n",
    "#     try:\n",
    "#         TSL = rm.open_resource(\"TCPIP::169.254.82.30::5000::SOCKET\", read_termination=\"\\r\")\n",
    "#         print(TSL.query(\"*IDN?\"))\n",
    "#         print(\"\\x1b[0;92mTSL Connection established.\\x1b[0m\")\n",
    "#         is_connect_success = True\n",
    "#     except pyvisa.VisaIOError:\n",
    "#         print(\"Retrying...\")\n",
    "#         time.sleep(0.5)\n",
    "\n",
    "# if TSL.query(\":POW:STAT?\") == \"+0\":\n",
    "#     TSL.write(\":POW:STAT 1\")\n",
    "#     time.sleep(300)\n",
    "#     print(\"Laser was off. Turning on laser.\")"
   ]
  },
  {
   "cell_type": "code",
   "execution_count": 30,
   "metadata": {},
   "outputs": [
    {
     "name": "stdout",
     "output_type": "stream",
     "text": [
      "Trigger set to 1V on CHAN1.\n",
      "Trigger armed\n",
      "It's waiting. Trigger the laser manually again.\n",
      "It's waiting. Trigger the laser manually again.\n",
      "It's waiting. Trigger the laser manually again.\n",
      "It's waiting. Trigger the laser manually again.\n",
      "It's waiting. Trigger the laser manually again.\n",
      "Triggered! Starting capture. It will stop on its own\n"
     ]
    }
   ],
   "source": [
    "# Function to set up and enable triggering\n",
    "def setup_trigger(trigger_level, trigger_source='CHAN1'):\n",
    "    # Set the trigger source (e.g., Channel 1)\n",
    "    oscilloscope.write(f':TRIGger:EDGE:SOURce {trigger_source}')\n",
    "    \n",
    "    # Set the trigger level (e.g., 0.5V)\n",
    "    oscilloscope.write(f':TRIGger:EDGE:LEVel {trigger_level}')\n",
    "    \n",
    "    # Set the trigger type (e.g., edge trigger on a rising edge)\n",
    "    oscilloscope.write(':TRIGger:EDGE:SLOPe POSitive')\n",
    "\n",
    "    # Set the trigger sweep mode\n",
    "    oscilloscope.write(':TRIGger:SWEep SINGle')\n",
    "    \n",
    "    print(f\"Trigger set to {trigger_level}V on {trigger_source}.\")\n",
    "\n",
    "\n",
    "oscilloscope.write(':STOP') # Quickly \"engineering reset\" the oscilloscope\n",
    "\n",
    "oscilloscope.write(':RUN') # Need oscilloscope to start running before it can capture anything\n",
    "# The trigger will automatically start capturing once the trigger is detected\n",
    "\n",
    "# Arm the trigger\n",
    "setup_trigger(trigger_level=1)  # Unit of trigger_level is V\n",
    "print(\"Trigger armed\")\n",
    "\n",
    "# Record the initial timestamp\n",
    "last_print_time = time.time()\n",
    "\n",
    "while 1:\n",
    "    if oscilloscope.query(':TRIGger:STATus?').strip() == 'TD':\n",
    "        print(\"Triggered! Starting capture; it will stop by itself.\")\n",
    "        break\n",
    "    elif oscilloscope.query(':TRIGger:STATus?').strip() == 'WAIT':\n",
    "        # Get the current time\n",
    "        current_time = time.time()\n",
    "        # Check if 5 seconds (or any interval you prefer) have passed since the last print\n",
    "        if current_time - last_print_time >= 4:  # Adjust the interval as needed (e.g., 5 seconds)\n",
    "            print(\"The oscilloscope is waiting. Trigger the laser manually again.\")\n",
    "            last_print_time = current_time  # Update the timestamp for the next interval"
   ]
  },
  {
   "cell_type": "code",
   "execution_count": 35,
   "metadata": {},
   "outputs": [
    {
     "name": "stdout",
     "output_type": "stream",
     "text": [
      "Querying waveform data...\n"
     ]
    },
    {
     "data": {
      "image/png": "[encoded data removed]",
      "text/plain": [
       "<Figure size 1000x600 with 1 Axes>"
      ]
     },
     "metadata": {},
     "output_type": "display_data"
    }
   ],
   "source": [
    "def save_waveform(channel=1):\n",
    "    \"\"\"\n",
    "    Captures and saves the waveform from the specified channel.\n",
    "    Args:\n",
    "    - channel (int): The channel number (e.g., 1, 2, 3, or 4)\n",
    "    \"\"\"\n",
    "    # Select the channel\n",
    "    oscilloscope.write(f':WAV:SOUR CHAN{channel}')\n",
    "    \n",
    "    # Set the waveform format to ASCII (can also use 'BYTE' or 'WORD' for binary)\n",
    "    oscilloscope.write(':WAV:FORM ASCII')\n",
    "\n",
    "    # Get the waveform data\n",
    "    print(\"Querying waveform data...\")\n",
    "    data = oscilloscope.query(':WAV:DATA?')\n",
    "\n",
    "    # Parse the data (it's returned as a comma-separated string in ASCII mode)\n",
    "    waveform_data = np.array([float(i) for i in data.split(',')])\n",
    "    \n",
    "    # Get the X-axis scale and position (Time per division, etc.)\n",
    "    x_increment = float(oscilloscope.query(':WAV:XINC?'))\n",
    "    x_origin = float(oscilloscope.query(':WAV:XOR?'))\n",
    "\n",
    "    # Generate the time axis\n",
    "    time_axis = np.linspace(x_origin, x_origin + x_increment * len(waveform_data), len(waveform_data))\n",
    "\n",
    "    # Generate a timestamp for the file name\n",
    "    timestamp = datetime.now().strftime(\"%Y%m%d_%H%M%S\")\n",
    "    csvfilename = f\"C:/Users/groov/VSCode/CSV_Waveforms/waveform_{timestamp}.csv\"\n",
    "\n",
    "    # Save the waveform data to a CSV file\n",
    "    np.savetxt(csvfilename, np.column_stack((time_axis, waveform_data)), delimiter=\",\", header=\"Time,Amplitude\")\n",
    "\n",
    "    # Plot the waveform for visualization\n",
    "    plt.figure(figsize=(10, 6))\n",
    "    plt.plot(time_axis, waveform_data)\n",
    "    plt.title(f\"Waveform from Channel {channel}\")\n",
    "    plt.xlabel(\"Time (s)\")\n",
    "    plt.ylabel(\"Amplitude (V)\")\n",
    "    plt.grid(True)\n",
    "    # plt.savefig(f\"waveform_channel_{channel}_{timestamp}.png\")\n",
    "    plt.show()\n",
    "\n",
    "# Call the function to save the waveform from channel 1\n",
    "save_waveform(channel=1)"
   ]
  }
 ],
 "metadata": {
  "kernelspec": {
   "display_name": "Python 3",
   "language": "python",
   "name": "python3"
  },
  "language_info": {
   "codemirror_mode": {
    "name": "ipython",
    "version": 3
   },
   "file_extension": ".py",
   "mimetype": "text/x-python",
   "name": "python",
   "nbconvert_exporter": "python",
   "pygments_lexer": "ipython3",
   "version": "3.13.0"
  }
 },
 "nbformat": 4,
 "nbformat_minor": 2
}
