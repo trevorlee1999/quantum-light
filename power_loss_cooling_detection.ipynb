{
 "cells": [
  {
   "cell_type": "markdown",
   "metadata": {},
   "source": [
    "Permanently connect AOM to the setup. Therefore the PulseStreamer needs to be always on and running."
   ]
  },
  {
   "cell_type": "markdown",
   "metadata": {},
   "source": [
    "Notes\n",
    "\n",
    "- Do not blindly hit run all; ensure that the correct blocks are running\n",
    "- Restart kernel before re-running code\n",
    "- Explicit laser off command at the bottom of the page"
   ]
  },
  {
   "cell_type": "code",
   "execution_count": 1,
   "metadata": {},
   "outputs": [
    {
     "name": "stdout",
     "output_type": "stream",
     "text": [
      "\u001b[1;3;4;96mDate of running the code:\u001b[0m \u001b[1;3;4;92m17.12.2024\u001b[0m\n",
      "Time of running the code: 16:08:42\n",
      "\u001b[1;31mWait for it...\u001b[0m\n",
      "Pyvisa running nominally\n"
     ]
    }
   ],
   "source": [
    "import numpy as np\n",
    "import pathlib\n",
    "import pyvisa\n",
    "import time\n",
    "import matplotlib.pyplot as plt\n",
    "import math\n",
    "from datetime import datetime\n",
    "import threading\n",
    "import pandas as pd\n",
    "import os\n",
    "\n",
    "TODAY_STR = datetime.now().strftime(\"%d.%m.%Y\") # Format the date as DD.MM.YYYY\n",
    "print(f\"\\x1b[1;3;4;96mDate of running the code:\\x1b[0m \\x1b[1;3;4;92m{TODAY_STR}\\x1b[0m\")\n",
    "print(f\"Time of running the code: {datetime.now().strftime(\"%H:%M:%S\")}\")\n",
    "print(\"\\x1b[1;31mWait for it...\\x1b[0m\")\n",
    "\n",
    "# Device communication - must always be run\n",
    "rm = pyvisa.ResourceManager()\n",
    "list_connections = rm.list_resources()      \n",
    "\n",
    "# print(list_connections)\n",
    "# Check device connection\n",
    "if len(list_connections) != 0:\n",
    "    print(\"Pyvisa running nominally\")\n",
    "else:\n",
    "    raise ValueError(\"Connections not working\")"
   ]
  },
  {
   "cell_type": "code",
   "execution_count": 2,
   "metadata": {},
   "outputs": [
    {
     "name": "stdout",
     "output_type": "stream",
     "text": [
      "SANTEC,TSL-570,24070004,0026.0026.0011\n",
      "\u001b[0;92mTSL Connection established\u001b[0m\n"
     ]
    }
   ],
   "source": [
    "# # Laser connection. Laser is TSL\n",
    "is_connect_success = False \n",
    "while not is_connect_success:\n",
    "    try:\n",
    "        TSL = rm.open_resource(\"TCPIP::169.254.82.30::5000::SOCKET\", read_termination=\"\\r\")\n",
    "        print(TSL.query(\"*IDN?\"))\n",
    "        print(\"\\x1b[0;92mTSL Connection established\\x1b[0m\")\n",
    "        is_connect_success = True\n",
    "    except pyvisa.VisaIOError:\n",
    "        print(\"Retrying...\")\n",
    "        time.sleep(0.5)"
   ]
  },
  {
   "cell_type": "code",
   "execution_count": 3,
   "metadata": {},
   "outputs": [
    {
     "name": "stdout",
     "output_type": "stream",
     "text": [
      "Nominal laser operation\n",
      "\u001b[0;92mLaser configured to 1550nm at 13dBm, for transparent power transfer\u001b[0m\n"
     ]
    }
   ],
   "source": [
    "WAV_START = 1550       # Need transparency\n",
    "laser_power = 13        # Set to the highest possible value due to significant losses\n",
    "\n",
    "TSL.write(\":WAVelength:SWEep 0\")    # Engineering reset to regular, constant-on mode\n",
    "time.sleep(0.1)\n",
    "TSL.write(f\":WAVelength {WAV_START}nm\")\n",
    "time.sleep(0.1)\n",
    "TSL.write(f\":POW {laser_power}\")\n",
    "time.sleep(0.1)\n",
    "\n",
    "# print(TSL.query(\":POWer:STATe?\"))\n",
    "\n",
    "if TSL.query(\":SYSTem:ALERt?\") == \"No alerts.\":\n",
    "    print(\"Nominal laser operation\")              \n",
    "    print(f\"\\x1b[0;92mLaser configured to {WAV_START}nm at {laser_power}dBm, for transparent power transfer\\x1b[0m\") \n",
    "else:\n",
    "    print(TSL.query(\":SYSTem:ALERt?\"))\n",
    "    print(\"Note that some time might be needed for laser to warm up; See page 101 of TSL manual\")"
   ]
  },
  {
   "cell_type": "code",
   "execution_count": 4,
   "metadata": {},
   "outputs": [
    {
     "name": "stdout",
     "output_type": "stream",
     "text": [
      "RIGOL TECHNOLOGIES,DHO1204,HDO1B261900518,00.02.12\n",
      "\u001b[0;92mOscilloscope Connection established.\u001b[0m\n"
     ]
    }
   ],
   "source": [
    "# # oscilloscope connection\n",
    "# Open the connection to the oscilloscope using its IP address\n",
    "oscilloscope = rm.open_resource('TCPIP::169.254.112.67::INSTR', open_timeout=5000) # For the RIGOL DHO1204 in A*STAR\n",
    "\n",
    "# Send a command to verify connection (e.g., identify the instrument)\n",
    "# Sanity check for successful communication with oscilloscope\n",
    "response = oscilloscope.query('*IDN?')\n",
    "print(response, end='')\n",
    "print(\"\\x1b[0;92mOscilloscope Connection established.\\x1b[0m\")"
   ]
  },
  {
   "cell_type": "code",
   "execution_count": 5,
   "metadata": {},
   "outputs": [
    {
     "name": "stdout",
     "output_type": "stream",
     "text": [
      "Acquisition mode is set to NORM\n",
      "Filter is set to 20M\n",
      "Sampling rate is currently to 500.00 MSa per s with the other settings in place\n",
      "\u001b[1;31mCheck or query settings again. Rerun cell if wrong.\u001b[0m\n"
     ]
    }
   ],
   "source": [
    "# # Oscilloscope configure settings\n",
    "oscilloscope.write(':TIMebase:ROLL 0')      # Turn off roll\n",
    "\n",
    "# # Sampling rate control\n",
    "oscilloscope.write(':ACQuire:MDEPth 25M')    \n",
    "oscilloscope.write(':ACQuire:TYPE NORM')      # Either NORMal or ULTRa, but ULTRa is limited in capability\n",
    "\n",
    "oscilloscope.write(':CHANnel1:BWLimit 20M')     # Clean up the high frequency noise\n",
    "oscilloscope.write(':CHANnel1:BWLimit ON')     \n",
    "\n",
    "# Time scale - this has an effect on sampling!\n",
    "# timescale = (t_end + buffer * 5) / 5\n",
    "timescale = 0.004\n",
    "oscilloscope.write(f':TIMebase:MAIN:SCALe {timescale}')      # This is limited to certain values! Check manual!\n",
    "oscilloscope.write(':TIMebase:MAIN:OFFSet 0')\n",
    "\n",
    "# Set voltage scale\n",
    "oscilloscope.write(':CHANnel1:SCALe 0.5')      \n",
    "oscilloscope.write(':CHANnel1:OFFSet 0')       # For viewing clarity\n",
    "\n",
    "oscilloscope.write(':CHANnel1:DISPlay 1')       # \n",
    "oscilloscope.write(':CHANnel2:DISPlay 0')       # No need trigger signal here\n",
    "\n",
    "sampling_rate = float(oscilloscope.query(':ACQuire:SRATe?').strip())\n",
    "\n",
    "if sampling_rate >= 1e9:\n",
    "    formatted_rate = f\"{sampling_rate / 1e9:.2f} GSa per s\"\n",
    "elif sampling_rate >= 1e6:\n",
    "    formatted_rate = f\"{sampling_rate / 1e6:.2f} MSa per s\"\n",
    "else:\n",
    "    formatted_rate = f\"{sampling_rate:.2f} Sa per s\"\n",
    "\n",
    "print(f\"Acquisition mode is set to {oscilloscope.query(':ACQuire:TYPE?').strip()}\")\n",
    "print(f\"Filter is set to {oscilloscope.query(':CHANnel1:BWLimit?').strip()}\")\n",
    "print(f\"Sampling rate is currently to {formatted_rate} with the other settings in place\")\n",
    "\n",
    "print(\"\\x1b[1;31mCheck or query settings again. Rerun cell if wrong.\\x1b[0m\")\n",
    "# print((oscilloscope.query(':ACQuire:SRATe?').strip()))\n",
    "# print(float(oscilloscope.query(':ACQuire:SRATe?').strip()))"
   ]
  },
  {
   "cell_type": "code",
   "execution_count": 6,
   "metadata": {},
   "outputs": [],
   "source": [
    "perpetual_on = True        # This is just for the AOM to be like it's not even there if set to True"
   ]
  },
  {
   "cell_type": "code",
   "execution_count": 7,
   "metadata": {},
   "outputs": [
    {
     "name": "stdout",
     "output_type": "stream",
     "text": [
      "Connect to Pulse Streamer via JSON-RPC.\n",
      "IP / Hostname: 169.254.8.2\n",
      "Pulse Streamer 8/2 firmware: v1.7.2\n",
      "Client software: v1.7.0\n",
      "\u001b[1;31mThe AOM is permanently on, so it's like it's not there\u001b[0m\n"
     ]
    }
   ],
   "source": [
    "# # PulseStreamer connection - for permanent AOM on\n",
    "# import API classes into the current namespace\n",
    "from pulsestreamer import PulseStreamer, Sequence\n",
    "# Connect to Pulse Streamer\n",
    "ip = '169.254.8.2'  # Do not change this!!\n",
    "ps = PulseStreamer(ip)  \n",
    "\n",
    "# Create a sequence object\n",
    "sequence = ps.createSequence()\n",
    "\n",
    "# # on-off sequence creation\n",
    "# Each time unit is 10**(-9) seconds\n",
    "# Example: A pulse with 10µs (10000 units) HIGH (or 1) and 30µs (30000 units) LOW (or 0) levels\n",
    "\n",
    "# Time period of one cycle in seconds, e.g. 1*10**(-6) is one microsecond\n",
    "T = 0.05         # modify this according to what I want\n",
    "\n",
    "# Duty ratio (fraction of on-time during one cycle). A float from 0 to 1.\n",
    "D = 0.5       # modify this according to what I want\n",
    "\n",
    "if perpetual_on is True:\n",
    "    D = 1\n",
    "    # print()\n",
    "    print(\"\\x1b[1;31mThe AOM is permanently on, so it's like it's not there\\x1b[0m\")\n",
    "else:\n",
    "    print(f\"\\x1b[1;31mThe AOM has a duty cycle {D} and time period of {T}s\\x1b[0m\")\n",
    "    \n",
    "if D > 1 or D < 0:\n",
    "    raise ValueError(\"D must be between 0 and 1, inclusive.\")\n",
    "\n",
    "# Convert T into time units\n",
    "pattern_T = math.ceil(T / (10**(-9)))\n",
    "on_time = math.ceil(pattern_T * D)\n",
    "off_time = math.ceil(pattern_T * (1-D))\n",
    "\n",
    "pattern = [(on_time, 1), (off_time, 0)]\n",
    "\n",
    "# Create sequence and assign pattern to digital channel 0\n",
    "sequence.setDigital(0, pattern)\n",
    "\n",
    "## Pattern implementation\n",
    "# Stream the sequence and repeat it indefinitely\n",
    "n_runs = PulseStreamer.REPEAT_INFINITELY\n",
    "ps.stream(sequence, n_runs)"
   ]
  },
  {
   "cell_type": "code",
   "execution_count": 8,
   "metadata": {},
   "outputs": [
    {
     "name": "stdout",
     "output_type": "stream",
     "text": [
      "Functions defined\n"
     ]
    }
   ],
   "source": [
    "# # Data collection of optical absorption\n",
    "\n",
    "waveforms = {}      # Initialise empty dictionary of waveforms for the plot_and_save_waveform function   \n",
    "\n",
    "def plot_and_save_waveform(ch=1):\n",
    "    \"\"\"Function to save the waveform as CSV file. \"\"\"\n",
    "   \n",
    "    # Select the channel\n",
    "    oscilloscope.write(f':WAV:SOUR CHAN{ch}')\n",
    "\n",
    "    # Set the waveform format to ASCII (can also use 'BYTE' or 'WORD' for binary)\n",
    "    oscilloscope.write(':WAV:FORM ASCII')\n",
    "\n",
    "    # Get the waveform data\n",
    "    print(f\"Querying waveform data for channel {ch}\")\n",
    "    data = oscilloscope.query(':WAV:DATA?')\n",
    "\n",
    "    # Parse the data (it's returned as a comma-separated string in ASCII mode)\n",
    "    waveform_data = np.array([float(i) for i in data.split(',')])\n",
    "    waveforms[f\"waveform_ch{ch}\"] = waveform_data\n",
    "\n",
    "    # Get the X-axis scale and position (Time per division, etc.)\n",
    "    x_increment = float(oscilloscope.query(':WAV:XINC?'))\n",
    "    x_origin = float(oscilloscope.query(':WAV:XOR?'))\n",
    "\n",
    "    # Generate the time axis\n",
    "    time_axis = np.linspace(x_origin, x_origin + x_increment * len(waveform_data), len(waveform_data))\n",
    "    waveforms[f\"time_axis_ch{ch}\"] = time_axis\n",
    "\n",
    "    # Generate a timestamp for the file name\n",
    "    timestamp = datetime.now().strftime(\"%d.%m.%Y_%H.%M.%S\")\n",
    "    # Generate a datestamp for the overall folder name\n",
    "    datestamp = datetime.now().strftime(\"%d.%m.%Y\")\n",
    "    \n",
    "    # Define the folder path\n",
    "    output_folder = f\"C:/Users/groov/VSCode/CSV_Waveforms/{datestamp}/{datestamp}_cooldown_fault_check\"\n",
    "    # Create the folder if it doesn't exist\n",
    "    os.makedirs(output_folder, exist_ok=True)\n",
    "    \n",
    "    csvfilename = os.path.join(output_folder, f\"{timestamp}_optical_at_{WAV_START}nm.csv\")\n",
    "    # opticalcsvfilenames.append(csvfilename)\n",
    "\n",
    "    # Save the waveform data to a CSV file\n",
    "    np.savetxt(csvfilename, np.column_stack((time_axis, waveform_data)), delimiter=\",\", header=\"Time, Amplitude\")\n",
    "\n",
    "    # Plot the waveform for visualization and sanity check\n",
    "    plt.figure(figsize=(10, 6))\n",
    "    plt.plot(waveforms[f\"time_axis_ch{ch}\"],  waveforms[f\"waveform_ch{ch}\"], label=f\"channel {ch}\")\n",
    "    plt.title(f\"Optical transfer curve at wavelength {WAV_START}nm\")\n",
    "    plt.xlabel(\"Time (s)\")\n",
    "    plt.ylabel(\"Amplitude (V)\")\n",
    "    plt.ylim(bottom=0)  # Ensure x-axis is visible\n",
    "    plt.grid(True)\n",
    "    plt.legend()\n",
    "    # plt.savefig(f\"waveform_channel_{channel}_{timestamp}.png\")\n",
    "    plt.show()\n",
    "\n",
    "print(\"Functions defined\")"
   ]
  },
  {
   "cell_type": "code",
   "execution_count": null,
   "metadata": {},
   "outputs": [
    {
     "name": "stdout",
     "output_type": "stream",
     "text": [
      "Querying waveform data for channel 1\n"
     ]
    },
    {
     "data": {
      "image/png": "[encoded data removed]",
      "text/plain": [
       "<Figure size 1000x600 with 1 Axes>"
      ]
     },
     "metadata": {},
     "output_type": "display_data"
    }
   ],
   "source": [
    "# Monitor the signal\n",
    "initial_time_since_epoch = time.time()\n",
    "\n",
    "while time.time() - initial_time_since_epoch <= 24*60*60:\n",
    "    #  Turn on laser to constant on mode\n",
    "    TSL.write(\":WAVelength:SWEep 0\")\n",
    "    time.sleep(0.1)\n",
    "    TSL.write(f\":WAVelength {WAV_START}nm\")\n",
    "    time.sleep(0.1)     \n",
    "    TSL.write(\":POWer:STATe 0\") # Engineering reset\n",
    "    time.sleep(0.1)\n",
    "    TSL.write(\":POWer:STATe 1\")\n",
    "    time.sleep(0.1)\n",
    "\n",
    "    oscilloscope.write(':STOP') # Quickly \"engineering reset\" the oscilloscope\n",
    "    time.sleep(0.1)   # Small delay to let oscilloscope settle before running and arming trigger\n",
    "    # print(\"Oscilloscope reset and running\")\n",
    "\n",
    "    oscilloscope.write(':RUN') # Need oscilloscope to start running before it can capture anything\n",
    "    time.sleep(0.1)   # The trigger will automatically start capturing once the trigger is detected\n",
    "    # print(\"Oscilloscope still running\")\n",
    "\n",
    "    plot_and_save_waveform()\n",
    "\n",
    "    print(\"Wait 5 minutes before next reading\")\n",
    "    time.sleep(5*60)        # Measure the optical power every 5 minutes"
   ]
  },
  {
   "cell_type": "code",
   "execution_count": null,
   "metadata": {},
   "outputs": [],
   "source": [
    "# # Explicit laser turn off\n",
    "if TSL.query(\":POWer:STATe?\") != \"+0\":\n",
    "    TSL.write(\":POWer:STATe +0\")\n",
    "    time.sleep(0.1)"
   ]
  }
 ],
 "metadata": {
  "kernelspec": {
   "display_name": "Python 3",
   "language": "python",
   "name": "python3"
  },
  "language_info": {
   "codemirror_mode": {
    "name": "ipython",
    "version": 3
   },
   "file_extension": ".py",
   "mimetype": "text/x-python",
   "name": "python",
   "nbconvert_exporter": "python",
   "pygments_lexer": "ipython3",
   "version": "3.13.0"
  }
 },
 "nbformat": 4,
 "nbformat_minor": 2
}
