{
 "cells": [
  {
   "cell_type": "markdown",
   "metadata": {},
   "source": [
    "TO DO - for running tests\n",
    "1. Set the trigger to manual on the laser console."
   ]
  },
  {
   "cell_type": "code",
   "execution_count": 1,
   "metadata": {},
   "outputs": [
    {
     "name": "stdout",
     "output_type": "stream",
     "text": [
      "\u001b[1;3;4;96mDate of running the code:\u001b[0m \u001b[1;3;4;92m20241104\u001b[0m\n",
      "Time of running the code: 16:09:00\n"
     ]
    }
   ],
   "source": [
    "import numpy as np\n",
    "import pathlib\n",
    "import pyvisa\n",
    "import time\n",
    "import matplotlib.pyplot as plt\n",
    "import math\n",
    "from datetime import datetime\n",
    "TODAY_STR = datetime.now().strftime(\"%Y%m%d\")\n",
    "print(f\"\\x1b[1;3;4;96mDate of running the code:\\x1b[0m \\x1b[1;3;4;92m{TODAY_STR}\\x1b[0m\")\n",
    "print(f\"Time of running the code: {datetime.now().strftime(\"%H:%M:%S\")}\")"
   ]
  },
  {
   "cell_type": "code",
   "execution_count": 2,
   "metadata": {},
   "outputs": [
    {
     "data": {
      "text/plain": [
       "()"
      ]
     },
     "execution_count": 2,
     "metadata": {},
     "output_type": "execute_result"
    }
   ],
   "source": [
    "# Always run this: device communication\n",
    "rm = pyvisa.ResourceManager()\n",
    "rm.list_resources()"
   ]
  },
  {
   "cell_type": "code",
   "execution_count": null,
   "metadata": {},
   "outputs": [],
   "source": [
    "# # oscilloscope connection\n",
    "# Open the connection to the oscilloscope using its IP address\n",
    "oscilloscope = rm.open_resource('TCPIP::169.254.112.67::INSTR', open_timeout=5000) # For the RIGOL DHO1204 in A*STAR\n",
    "\n",
    "# Send a command to verify connection (e.g., identify the instrument)\n",
    "# Sanity check for successful communication with oscilloscope\n",
    "response = oscilloscope.query('*IDN?')\n",
    "print(response)"
   ]
  },
  {
   "cell_type": "code",
   "execution_count": null,
   "metadata": {},
   "outputs": [],
   "source": [
    "# # Oscilloscope configure settings\n",
    "oscilloscope.write(':TIMebase:ROLL 0')\n",
    "oscilloscope.write(':ACQuire:MDEPth 1M')    # Check again if this command is working! If not manually set MemDepth\n",
    "oscilloscope.write(':TIMebase:MAIN:SCALe 2')\n",
    "oscilloscope.write(':CHANnel1:SCALe 2')\n",
    "oscilloscope.write(':CHANnel1:OFFSet 0')\n",
    "oscilloscope.write(':TIMebase:MAIN:OFFSet 0')"
   ]
  },
  {
   "cell_type": "code",
   "execution_count": null,
   "metadata": {},
   "outputs": [
    {
     "name": "stdout",
     "output_type": "stream",
     "text": [
      "SANTEC,TSL-570,24070004,0026.0026.0011\n",
      "\u001b[0;92mTSL Connection established.\u001b[0m\n"
     ]
    }
   ],
   "source": [
    "# # Laser connection \n",
    "# # Laser is TSL\n",
    "is_connect_success = False \n",
    "while not is_connect_success:\n",
    "    try:\n",
    "        TSL = rm.open_resource(\"TCPIP::169.254.82.30::5000::SOCKET\", read_termination=\"\\r\")\n",
    "        print(TSL.query(\"*IDN?\"))\n",
    "        print(\"\\x1b[0;92mTSL Connection established.\\x1b[0m\")\n",
    "        is_connect_success = True\n",
    "    except pyvisa.VisaIOError:\n",
    "        print(\"Retrying...\")\n",
    "        time.sleep(0.5)\n",
    "\n",
    "if TSL.query(\":POW:STAT?\") == \"+0\":\n",
    "    TSL.write(\":POW:STAT 1\")\n",
    "    time.sleep(300)\n",
    "    print(\"Laser was off. Turning on laser.\")"
   ]
  },
  {
   "cell_type": "code",
   "execution_count": null,
   "metadata": {},
   "outputs": [],
   "source": [
    "TSL.query(\"TRIG:OUTP:STEP?\")"
   ]
  },
  {
   "cell_type": "code",
   "execution_count": null,
   "metadata": {},
   "outputs": [],
   "source": [
    "WAV_START = 1480\n",
    "WAV_END = 1640\n",
    "\n",
    "TSL.write(\"WAV:SWE 0\")\n",
    "time.sleep(0.5)\n",
    "TSL.write(F\"WAV:SWE:STAR {WAV_START}E-9\")\n",
    "time.sleep(0.1)\n",
    "TSL.write(F\"WAV:SWE:STOP {WAV_END}E-9\")\n",
    "time.sleep(0.1)\n",
    "TSL.write(\"WAV:SWE 1\")\n",
    "time.sleep(0.1)"
   ]
  },
  {
   "cell_type": "code",
   "execution_count": null,
   "metadata": {},
   "outputs": [],
   "source": [
    "# Function to set up and enable triggering\n",
    "def setup_trigger(trigger_level, trigger_source='CHAN1'):\n",
    "    # Set the trigger source (e.g., Channel 1)\n",
    "    oscilloscope.write(f':TRIGger:EDGE:SOURce {trigger_source}')\n",
    "    \n",
    "    # Set the trigger level (e.g., 0.5V)\n",
    "    oscilloscope.write(f':TRIGger:EDGE:LEVel {trigger_level}')\n",
    "    \n",
    "    # Set the trigger type (e.g., edge trigger on a rising edge)\n",
    "    oscilloscope.write(':TRIGger:EDGE:SLOPe POSitive')\n",
    "\n",
    "    # Set the trigger sweep mode\n",
    "    oscilloscope.write(':TRIGger:SWEep SINGle')\n",
    "    \n",
    "    print(f\"Trigger set to {trigger_level}V on {trigger_source}.\")\n",
    "\n",
    "\n",
    "oscilloscope.write(':STOP') # Quickly \"engineering reset\" the oscilloscope\n",
    "\n",
    "time.sleep(0.5) # Small delay to let oscilloscope settle before running and arming trigger\n",
    "\n",
    "oscilloscope.write(':RUN') # Need oscilloscope to start running before it can capture anything\n",
    "# The trigger will automatically start capturing once the trigger is detected\n",
    "\n",
    "# Arm the trigger\n",
    "setup_trigger(trigger_level=0.5)  # Unit of trigger_level is V\n",
    "\n",
    "time.sleep(0.5) # Small delay to confirm trigger preparation\n",
    "\n",
    "print(\"Trigger armed, ready to fire.\")\n",
    "\n",
    "timeout_duration = 60  # 1 minute \n",
    "start_time = time.time()\n",
    "\n",
    "# Record the initial timestamp\n",
    "last_print_time = time.time()\n",
    "\n",
    "while 1:\n",
    "    if oscilloscope.query(':TRIGger:STATus?').strip() == 'TD':\n",
    "        print(\"Triggered! Starting capture; it will stop by itself.\")\n",
    "        break\n",
    "\n",
    "    elif oscilloscope.query(':TRIGger:STATus?').strip() == 'WAIT':\n",
    "        # Get the current time\n",
    "        current_time = time.time()\n",
    "\n",
    "        # Check if 5 seconds (or any interval you prefer) have passed since the last print\n",
    "        if current_time - last_print_time >= 10:  # Adjust the interval as needed (e.g., 5 seconds)\n",
    "            print(\"Waiting for trigger. \\nIf the laser has fully swept, hit 'trigger' again.\")\n",
    "            last_print_time = current_time  # Update the timestamp for the next interval\n",
    "        \n",
    "        # Check for timeout\n",
    "        if current_time - start_time >= timeout_duration:\n",
    "            print(\"Timeout reached without trigger.\")\n",
    "            break\n",
    "    \n",
    "    else:\n",
    "        pass"
   ]
  },
  {
   "cell_type": "code",
   "execution_count": null,
   "metadata": {},
   "outputs": [],
   "source": [
    "waveforms = {}\n",
    "\n",
    "def plot_and_save_waveform(channels: list[int]):\n",
    "\n",
    "    for ch in channels:\n",
    "        # Select the channel\n",
    "        oscilloscope.write(f':WAV:SOUR CHAN{ch}')\n",
    "\n",
    "        # Set the waveform format to ASCII (can also use 'BYTE' or 'WORD' for binary)\n",
    "        oscilloscope.write(':WAV:FORM ASCII')\n",
    "\n",
    "        # Get the waveform data\n",
    "        print(f\"Querying waveform data for channel {ch}\")\n",
    "        data = oscilloscope.query(':WAV:DATA?')\n",
    "\n",
    "        # Parse the data (it's returned as a comma-separated string in ASCII mode)\n",
    "        waveform_data = np.array([float(i) for i in data.split(',')])\n",
    "        waveforms[f\"waveform_ch{ch}\"] = waveform_data\n",
    "\n",
    "        # Get the X-axis scale and position (Time per division, etc.)\n",
    "        x_increment = float(oscilloscope.query(':WAV:XINC?'))\n",
    "        x_origin = float(oscilloscope.query(':WAV:XOR?'))\n",
    "\n",
    "        # Generate the time axis\n",
    "        time_axis = np.linspace(x_origin, x_origin + x_increment * len(waveform_data), len(waveform_data))\n",
    "        waveforms[f\"time_axis_ch{ch}\"] = time_axis\n",
    "\n",
    "        # Generate a timestamp for the file name\n",
    "        timestamp = datetime.now().strftime(\"%Y%m%d_%H%M%S\")\n",
    "        csvfilename = f\"C:/Users/groov/VSCode/CSV_Waveforms/waveform_{timestamp}_channel{ch}.csv\"\n",
    "\n",
    "        # Save the waveform data to a CSV file\n",
    "        np.savetxt(csvfilename, np.column_stack((time_axis, waveform_data)), delimiter=\",\", header=\"Time, Amplitude\")\n",
    "\n",
    "    # Plot the waveform for visualization\n",
    "    plt.figure(figsize=(10, 6))\n",
    "    for ch in channels:\n",
    "        plt.plot(waveforms[f\"time_axis_ch{ch}\"],  waveforms[f\"waveform_ch{ch}\"], label=f\"channel {ch}\")\n",
    "    plt.title(\"Waveform from Channels \" + \", \".join(str(ch) for ch in channels))\n",
    "    plt.xlabel(\"Time (s)\")\n",
    "    plt.ylabel(\"Amplitude (V)\")\n",
    "    plt.grid(True)\n",
    "    plt.legend()\n",
    "    # plt.savefig(f\"waveform_channel_{channel}_{timestamp}.png\")\n",
    "    plt.show()\n",
    "        \n",
    "\n",
    "# Call the function\n",
    "plot_and_save_waveform(channels=[1])\n",
    "\n",
    "## This plots on the same plot for consistency. However, if we want to change the variables slightly, can do\n"
   ]
  },
  {
   "cell_type": "code",
   "execution_count": null,
   "metadata": {},
   "outputs": [],
   "source": [
    "# # Laser turn off\n",
    "TSL.write(\"WAV:SWE 0\")\n",
    "TSL.write(\"WAV 1520nm\")\n",
    "TSL.close()"
   ]
  }
 ],
 "metadata": {
  "kernelspec": {
   "display_name": "Python 3",
   "language": "python",
   "name": "python3"
  },
  "language_info": {
   "codemirror_mode": {
    "name": "ipython",
    "version": 3
   },
   "file_extension": ".py",
   "mimetype": "text/x-python",
   "name": "python",
   "nbconvert_exporter": "python",
   "pygments_lexer": "ipython3",
   "version": "3.13.0"
  }
 },
 "nbformat": 4,
 "nbformat_minor": 2
}
