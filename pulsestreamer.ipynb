{
 "cells": [
  {
   "cell_type": "code",
   "execution_count": null,
   "metadata": {},
   "outputs": [],
   "source": [
    "# import API classes into the current namespace\n",
    "from pulsestreamer import PulseStreamer, Sequence\n",
    "\n",
    "# Connect to Pulse Streamer\n",
    "ip = '169.254.8.2'  # Do not change this!!\n",
    "ps = PulseStreamer(ip)\n",
    "\n",
    "# Create a sequence object\n",
    "sequence = ps.createSequence()"
   ]
  },
  {
   "cell_type": "code",
   "execution_count": null,
   "metadata": {},
   "outputs": [],
   "source": [
    "# # Pattern creation\n",
    "\n",
    "# A pulse with 10µs (10000) HIGH (or 1) and 30µs (30000) LOW (or 0) levels\n",
    "# Each time unit is 10**(-11) seconds\n",
    "pattern = [(10000, 1), (30000, 0)]\n",
    "\n",
    "# Create sequence and assign pattern to digital channel 0\n",
    "sequence.setDigital(0, pattern)\n",
    "\n",
    "# Stream the sequence and repeat it indefinitely\n",
    "n_runs = PulseStreamer.REPEAT_INFINITELY\n",
    "ps.stream(sequence, n_runs)"
   ]
  }
 ],
 "metadata": {
  "language_info": {
   "name": "python"
  }
 },
 "nbformat": 4,
 "nbformat_minor": 2
}
