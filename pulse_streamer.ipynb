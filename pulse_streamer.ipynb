{
 "cells": [
  {
   "cell_type": "code",
   "execution_count": 13,
   "metadata": {},
   "outputs": [
    {
     "name": "stdout",
     "output_type": "stream",
     "text": [
      "Connect to Pulse Streamer via JSON-RPC.\n",
      "IP / Hostname: 169.254.8.2\n",
      "Pulse Streamer 8/2 firmware: v1.7.2\n",
      "Client software: v1.7.0\n"
     ]
    }
   ],
   "source": [
    "# import API classes into the current namespace\n",
    "from pulsestreamer import PulseStreamer, Sequence\n",
    "\n",
    "# Connect to Pulse Streamer\n",
    "ip = '169.254.8.2'  # Do not change this!!\n",
    "ps = PulseStreamer(ip)\n",
    "\n",
    "# Create a sequence object\n",
    "sequence = ps.createSequence()"
   ]
  },
  {
   "cell_type": "code",
   "execution_count": 12,
   "metadata": {},
   "outputs": [
    {
     "name": "stdout",
     "output_type": "stream",
     "text": [
      "10000\n",
      "2500 7500\n"
     ]
    }
   ],
   "source": [
    "# import math\n",
    "\n",
    "# T = 10*10**(-6)\n",
    "# D = 0.25\n",
    "\n",
    "# # Convert T into time units\n",
    "# pattern_T = math.ceil(T / (10**(-9)))\n",
    "# # print(pattern_T)\n",
    "# on_time = math.ceil(pattern_T * D)\n",
    "# off_time = math.ceil(pattern_T * (1-D))\n",
    "# # print(on_time, off_time)\n"
   ]
  },
  {
   "cell_type": "code",
   "execution_count": 18,
   "metadata": {},
   "outputs": [],
   "source": [
    "# # # Pattern creation\n",
    "\n",
    "# Each time unit is 10**(-9) seconds\n",
    "# Example: A pulse with 10µs (10000 units) HIGH (or 1) and 30µs (30000 units) LOW (or 0) levels\n",
    "\n",
    "import math\n",
    "\n",
    "# Square wave creation\n",
    "\n",
    "# Time period of one cycle in seconds, e.g. 1*10**(-6) is one microsecond\n",
    "T = 10*10**(-6)\n",
    "# Duty ratio (fraction of on-time during one cycle)\n",
    "D = 0.4\n",
    "\n",
    "# Convert T into time units\n",
    "pattern_T = math.ceil(T / (10**(-9)))\n",
    "on_time = math.ceil(pattern_T * D)\n",
    "off_time = math.ceil(pattern_T * (1-D))\n",
    "\n",
    "pattern = [(on_time, 1), (off_time, 0)]\n",
    "\n",
    "# Create sequence and assign pattern to digital channel 0\n",
    "sequence.setDigital(0, pattern)\n",
    "\n",
    "\n",
    "## Pattern implementation\n",
    "# Stream the sequence and repeat it indefinitely\n",
    "n_runs = PulseStreamer.REPEAT_INFINITELY\n",
    "ps.stream(sequence, n_runs)"
   ]
  }
 ],
 "metadata": {
  "kernelspec": {
   "display_name": "Python 3",
   "language": "python",
   "name": "python3"
  },
  "language_info": {
   "codemirror_mode": {
    "name": "ipython",
    "version": 3
   },
   "file_extension": ".py",
   "mimetype": "text/x-python",
   "name": "python",
   "nbconvert_exporter": "python",
   "pygments_lexer": "ipython3",
   "version": "3.13.0"
  }
 },
 "nbformat": 4,
 "nbformat_minor": 2
}
