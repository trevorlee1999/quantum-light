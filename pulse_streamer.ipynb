{
 "cells": [
  {
   "cell_type": "code",
   "execution_count": 1,
   "metadata": {},
   "outputs": [
    {
     "name": "stdout",
     "output_type": "stream",
     "text": [
      "Connect to Pulse Streamer via JSON-RPC.\n",
      "IP / Hostname: 169.254.8.2\n",
      "Pulse Streamer 8/2 firmware: v1.7.2\n",
      "Client software: v1.7.0\n"
     ]
    }
   ],
   "source": [
    "# import API classes into the current namespace\n",
    "from pulsestreamer import PulseStreamer, Sequence\n",
    "\n",
    "# Connect to Pulse Streamer\n",
    "ip = '169.254.8.2'  # Do not change this!!\n",
    "ps = PulseStreamer(ip)\n",
    "\n",
    "# Create a sequence object\n",
    "sequence = ps.createSequence()"
   ]
  },
  {
   "cell_type": "code",
   "execution_count": 2,
   "metadata": {},
   "outputs": [],
   "source": [
    "# # # Pattern creation\n",
    "\n",
    "# Example: A pulse with 10µs (10000) HIGH (or 1) and 30µs (30000) LOW (or 0) levels\n",
    "# Each time unit is 10**(-11) seconds\n",
    "pattern = [(10000, 1), (30000, 0)]"
   ]
  },
  {
   "cell_type": "code",
   "execution_count": 3,
   "metadata": {},
   "outputs": [],
   "source": [
    "# Create sequence and assign pattern to digital channel 0\n",
    "sequence.setDigital(0, pattern)\n",
    "\n",
    "# Stream the sequence and repeat it indefinitely\n",
    "n_runs = PulseStreamer.REPEAT_INFINITELY\n",
    "ps.stream(sequence, n_runs)"
   ]
  }
 ],
 "metadata": {
  "kernelspec": {
   "display_name": "Python 3",
   "language": "python",
   "name": "python3"
  },
  "language_info": {
   "codemirror_mode": {
    "name": "ipython",
    "version": 3
   },
   "file_extension": ".py",
   "mimetype": "text/x-python",
   "name": "python",
   "nbconvert_exporter": "python",
   "pygments_lexer": "ipython3",
   "version": "3.13.0"
  }
 },
 "nbformat": 4,
 "nbformat_minor": 2
}
